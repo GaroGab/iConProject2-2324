{
 "cells": [
  {
   "cell_type": "code",
   "id": "initial_id",
   "metadata": {
    "collapsed": true,
    "ExecuteTime": {
     "end_time": "2024-06-25T14:23:56.478242Z",
     "start_time": "2024-06-25T14:23:30.941957Z"
    }
   },
   "source": [
    "from keras.wrappers.scikit_learn import KerasClassifier\n",
    "import numpy as np\n",
    "from datetime import date\n",
    "from sklearn.preprocessing import MinMaxScaler\n",
    "from tensorflow.keras.layers import Dense, Dropout, LSTM\n",
    "from keras import Sequential\n",
    "import tensorflow as tf\n",
    "import yfinance as yf\n",
    "from sklearn.model_selection import GridSearchCV"
   ],
   "outputs": [],
   "execution_count": 3
  },
  {
   "metadata": {
    "ExecuteTime": {
     "end_time": "2024-06-25T14:24:02.457038Z",
     "start_time": "2024-06-25T14:24:02.446153Z"
    }
   },
   "cell_type": "code",
   "source": [
    "\n",
    "def loadTrainingData(ticker, START, TODAY):\n",
    "    data = yf.download(ticker, START, TODAY)\n",
    "    data.reset_index(inplace=True)\n",
    "    return data"
   ],
   "id": "b8291d8a37758f3c",
   "outputs": [],
   "execution_count": 5
  },
  {
   "metadata": {
    "ExecuteTime": {
     "end_time": "2024-06-25T14:24:05.248035Z",
     "start_time": "2024-06-25T14:24:04.423712Z"
    }
   },
   "cell_type": "code",
   "source": [
    "START = \"2010-01-01\"\n",
    "TODAY = date.today().strftime(\"%Y-%m-%d\")\n",
    "data = loadTrainingData('AAPL',START,TODAY)\n",
    "df = data\n",
    "df = df.drop(['Date', 'Adj Close'], axis = 1)\n",
    "df.head()\n",
    "df=data\n",
    "df.head()\n",
    "x_train = []\n",
    "y_train = []\n",
    "df = df.iloc[:, 4:5].values\n",
    "scaler = MinMaxScaler(feature_range=(0, 1))\n",
    "df = scaler.fit_transform(df)\n",
    "for i in range(5, df.shape[0]):\n",
    "    x_train.append(df[i - 5: i])\n",
    "    y_train.append(df[i, 0])\n",
    "x_train, y_train = np.array(x_train), np.array(y_train)\n",
    "print(x_train.shape)\n",
    "print(y_train.shape)"
   ],
   "id": "ea6fddb5e8c8c8db",
   "outputs": [
    {
     "name": "stderr",
     "output_type": "stream",
     "text": [
      "[*********************100%%**********************]  1 of 1 completed"
     ]
    },
    {
     "name": "stdout",
     "output_type": "stream",
     "text": [
      "(3637, 5, 1)\n",
      "(3637,)\n"
     ]
    },
    {
     "name": "stderr",
     "output_type": "stream",
     "text": [
      "\n"
     ]
    }
   ],
   "execution_count": 6
  },
  {
   "metadata": {
    "ExecuteTime": {
     "end_time": "2024-06-25T14:30:10.391686Z",
     "start_time": "2024-06-25T14:25:18.882315Z"
    }
   },
   "cell_type": "code",
   "source": [
    "def create_model(optimizer, loss):\n",
    "    model = Sequential()\n",
    "    model.add(LSTM(units=50, activation='relu', return_sequences=True\n",
    "                   , input_shape=(x_train.shape[1], 1)))\n",
    "    model.add(Dropout(0.2))\n",
    "\n",
    "    model.add(LSTM(units=60, activation='relu', return_sequences=True))\n",
    "    model.add(Dropout(0.3))\n",
    "\n",
    "    model.add(LSTM(units=80, activation='relu', return_sequences=True))\n",
    "    model.add(Dropout(0.4))\n",
    "\n",
    "    model.add(LSTM(units=120, activation='relu'))\n",
    "    model.add(Dropout(0.5))\n",
    "\n",
    "    model.add(Dense(units=1))\n",
    "    model.compile(optimizer=optimizer, loss=loss)\n",
    "    return model\n",
    "def hyperParamTuning(x_train,y_train):\n",
    "    tf.compat.v1.disable_eager_execution()\n",
    "    model = KerasClassifier(build_fn=create_model, epochs= 10, verbose=1)\n",
    "    # Definizione della grid dei parametri\n",
    "    param_grid = {\n",
    "        'optimizer': ['adam','adamax'],\n",
    "        'loss': ['mean_squared_error', 'mean_squared_logarithmic_error'],\n",
    "    }\n",
    "    grid = GridSearchCV(estimator=model, param_grid=param_grid, n_jobs=1, cv=3, scoring = 'r2', verbose=2)\n",
    "    grid_result = grid.fit(x_train, y_train)\n",
    "    print(f\"Best: {grid_result.best_score_} using {grid_result.best_params_}\")\n",
    "hyperParamTuning(x_train,y_train)"
   ],
   "id": "3e4fa9777ccb5c8e",
   "outputs": [
    {
     "name": "stderr",
     "output_type": "stream",
     "text": [
      "C:\\Users\\gabri\\AppData\\Local\\Temp\\ipykernel_26928\\996535980.py:21: DeprecationWarning: KerasClassifier is deprecated, use Sci-Keras (https://github.com/adriangb/scikeras) instead. See https://www.adriangb.com/scikeras/stable/migration.html for help migrating.\n",
      "  model = KerasClassifier(build_fn=create_model, epochs= 10, verbose=1)\n"
     ]
    },
    {
     "name": "stdout",
     "output_type": "stream",
     "text": [
      "Fitting 3 folds for each of 4 candidates, totalling 12 fits\n",
      "Train on 2424 samples\n",
      "Epoch 1/10\n",
      "2424/2424 [==============================] - 3s 1ms/sample - loss: 1131925.2349\n",
      "Epoch 2/10\n",
      "2424/2424 [==============================] - 1s 442us/sample - loss: 115078.4323\n",
      "Epoch 3/10\n",
      "2424/2424 [==============================] - 1s 454us/sample - loss: 106023.1075\n",
      "Epoch 4/10\n",
      "2424/2424 [==============================] - 1s 438us/sample - loss: 87799.1290\n",
      "Epoch 5/10\n",
      "2424/2424 [==============================] - 1s 436us/sample - loss: 73206.3900\n",
      "Epoch 6/10\n",
      "2424/2424 [==============================] - 1s 452us/sample - loss: 66286.6515\n",
      "Epoch 7/10\n",
      "2424/2424 [==============================] - 1s 489us/sample - loss: 53748.8485\n",
      "Epoch 8/10\n",
      "2424/2424 [==============================] - 1s 473us/sample - loss: 51681.1323\n",
      "Epoch 9/10\n",
      "2424/2424 [==============================] - 1s 484us/sample - loss: 49959.9806\n",
      "Epoch 10/10\n",
      "2424/2424 [==============================] - 1s 479us/sample - loss: 50024.8160\n"
     ]
    },
    {
     "name": "stderr",
     "output_type": "stream",
     "text": [
      "C:\\Users\\gabri\\.conda\\envs\\tf\\lib\\site-packages\\keras\\engine\\training_v1.py:2356: UserWarning: `Model.state_updates` will be removed in a future version. This property should not be used in TensorFlow 2.0, as `updates` are applied automatically.\n",
      "  updates=self.state_updates,\n"
     ]
    },
    {
     "name": "stdout",
     "output_type": "stream",
     "text": [
      "[CV] END ............loss=mean_squared_error, optimizer=adam; total time=  16.0s\n",
      "Train on 2425 samples\n",
      "Epoch 1/10\n",
      "2425/2425 [==============================] - 3s 1ms/sample - loss: 1196356.6572\n",
      "Epoch 2/10\n",
      "2425/2425 [==============================] - 1s 471us/sample - loss: 128008.3871\n",
      "Epoch 3/10\n",
      "2425/2425 [==============================] - 1s 485us/sample - loss: 124142.3165\n",
      "Epoch 4/10\n",
      "2425/2425 [==============================] - 1s 477us/sample - loss: 107980.2610\n",
      "Epoch 5/10\n",
      "2425/2425 [==============================] - 1s 480us/sample - loss: 104261.0804\n",
      "Epoch 6/10\n",
      "2425/2425 [==============================] - 1s 476us/sample - loss: 86052.2313\n",
      "Epoch 7/10\n",
      "2425/2425 [==============================] - 1s 500us/sample - loss: 75534.0779\n",
      "Epoch 8/10\n",
      "2425/2425 [==============================] - 1s 516us/sample - loss: 62028.6371\n",
      "Epoch 9/10\n",
      "2425/2425 [==============================] - 1s 518us/sample - loss: 54869.8614\n",
      "Epoch 10/10\n",
      "2425/2425 [==============================] - 1s 516us/sample - loss: 53159.4222\n"
     ]
    },
    {
     "name": "stderr",
     "output_type": "stream",
     "text": [
      "C:\\Users\\gabri\\.conda\\envs\\tf\\lib\\site-packages\\keras\\engine\\training_v1.py:2356: UserWarning: `Model.state_updates` will be removed in a future version. This property should not be used in TensorFlow 2.0, as `updates` are applied automatically.\n",
      "  updates=self.state_updates,\n"
     ]
    },
    {
     "name": "stdout",
     "output_type": "stream",
     "text": [
      "[CV] END ............loss=mean_squared_error, optimizer=adam; total time=  17.4s\n",
      "Train on 2425 samples\n",
      "Epoch 1/10\n",
      "2425/2425 [==============================] - 4s 2ms/sample - loss: 1241051.6480\n",
      "Epoch 2/10\n",
      "2425/2425 [==============================] - 1s 479us/sample - loss: 216568.3687\n",
      "Epoch 3/10\n",
      "2425/2425 [==============================] - 1s 503us/sample - loss: 118067.4865\n",
      "Epoch 4/10\n",
      "2425/2425 [==============================] - 1s 494us/sample - loss: 111287.8297\n",
      "Epoch 5/10\n",
      "2425/2425 [==============================] - 1s 506us/sample - loss: 100298.0476\n",
      "Epoch 6/10\n",
      "2425/2425 [==============================] - 1s 492us/sample - loss: 91782.7144\n",
      "Epoch 7/10\n",
      "2425/2425 [==============================] - 1s 515us/sample - loss: 76664.1595\n",
      "Epoch 8/10\n",
      "2425/2425 [==============================] - 1s 519us/sample - loss: 66005.6985\n",
      "Epoch 9/10\n",
      "2425/2425 [==============================] - 1s 535us/sample - loss: 63613.0000\n",
      "Epoch 10/10\n",
      "2425/2425 [==============================] - 1s 525us/sample - loss: 60961.1289\n"
     ]
    },
    {
     "name": "stderr",
     "output_type": "stream",
     "text": [
      "C:\\Users\\gabri\\.conda\\envs\\tf\\lib\\site-packages\\keras\\engine\\training_v1.py:2356: UserWarning: `Model.state_updates` will be removed in a future version. This property should not be used in TensorFlow 2.0, as `updates` are applied automatically.\n",
      "  updates=self.state_updates,\n"
     ]
    },
    {
     "name": "stdout",
     "output_type": "stream",
     "text": [
      "[CV] END ............loss=mean_squared_error, optimizer=adam; total time=  18.5s\n",
      "Train on 2424 samples\n",
      "Epoch 1/10\n",
      "2424/2424 [==============================] - 4s 2ms/sample - loss: 1712259.8362\n",
      "Epoch 2/10\n",
      "2424/2424 [==============================] - 1s 476us/sample - loss: 406714.2653\n",
      "Epoch 3/10\n",
      "2424/2424 [==============================] - 1s 470us/sample - loss: 111807.4085\n",
      "Epoch 4/10\n",
      "2424/2424 [==============================] - 1s 485us/sample - loss: 103777.3611\n",
      "Epoch 5/10\n",
      "2424/2424 [==============================] - 1s 489us/sample - loss: 97699.3567\n",
      "Epoch 6/10\n",
      "2424/2424 [==============================] - 1s 510us/sample - loss: 86746.7251\n",
      "Epoch 7/10\n",
      "2424/2424 [==============================] - 1s 528us/sample - loss: 90007.9687\n",
      "Epoch 8/10\n",
      "2424/2424 [==============================] - 1s 532us/sample - loss: 78348.9398\n",
      "Epoch 9/10\n",
      "2424/2424 [==============================] - 1s 520us/sample - loss: 71283.9669\n",
      "Epoch 10/10\n",
      "2424/2424 [==============================] - 1s 523us/sample - loss: 66274.1721\n"
     ]
    },
    {
     "name": "stderr",
     "output_type": "stream",
     "text": [
      "C:\\Users\\gabri\\.conda\\envs\\tf\\lib\\site-packages\\keras\\engine\\training_v1.py:2356: UserWarning: `Model.state_updates` will be removed in a future version. This property should not be used in TensorFlow 2.0, as `updates` are applied automatically.\n",
      "  updates=self.state_updates,\n"
     ]
    },
    {
     "name": "stdout",
     "output_type": "stream",
     "text": [
      "[CV] END ..........loss=mean_squared_error, optimizer=adamax; total time=  19.4s\n",
      "Train on 2425 samples\n",
      "Epoch 1/10\n",
      "2425/2425 [==============================] - 5s 2ms/sample - loss: 1864848.9001\n",
      "Epoch 2/10\n",
      "2425/2425 [==============================] - 1s 481us/sample - loss: 728933.1703\n",
      "Epoch 3/10\n",
      "2425/2425 [==============================] - 1s 484us/sample - loss: 126937.8588\n",
      "Epoch 4/10\n",
      "2425/2425 [==============================] - 1s 486us/sample - loss: 117147.2765\n",
      "Epoch 5/10\n",
      "2425/2425 [==============================] - 1s 491us/sample - loss: 114666.2101\n",
      "Epoch 6/10\n",
      "2425/2425 [==============================] - 1s 489us/sample - loss: 112972.4349\n",
      "Epoch 7/10\n",
      "2425/2425 [==============================] - 1s 521us/sample - loss: 109482.0138\n",
      "Epoch 8/10\n",
      "2425/2425 [==============================] - 1s 532us/sample - loss: 107263.6452\n",
      "Epoch 9/10\n",
      "2425/2425 [==============================] - 1s 555us/sample - loss: 109480.6866\n",
      "Epoch 10/10\n",
      "2425/2425 [==============================] - 2s 619us/sample - loss: 106413.6370\n"
     ]
    },
    {
     "name": "stderr",
     "output_type": "stream",
     "text": [
      "C:\\Users\\gabri\\.conda\\envs\\tf\\lib\\site-packages\\keras\\engine\\training_v1.py:2356: UserWarning: `Model.state_updates` will be removed in a future version. This property should not be used in TensorFlow 2.0, as `updates` are applied automatically.\n",
      "  updates=self.state_updates,\n"
     ]
    },
    {
     "name": "stdout",
     "output_type": "stream",
     "text": [
      "[CV] END ..........loss=mean_squared_error, optimizer=adamax; total time=  20.5s\n",
      "Train on 2425 samples\n",
      "Epoch 1/10\n",
      "2425/2425 [==============================] - 5s 2ms/sample - loss: 1800679.1334\n",
      "Epoch 2/10\n",
      "2425/2425 [==============================] - 1s 504us/sample - loss: 724080.8686\n",
      "Epoch 3/10\n",
      "2425/2425 [==============================] - 1s 462us/sample - loss: 265765.8315\n",
      "Epoch 4/10\n",
      "2425/2425 [==============================] - 1s 479us/sample - loss: 153132.8488\n",
      "Epoch 5/10\n",
      "2425/2425 [==============================] - 1s 467us/sample - loss: 128769.5429\n",
      "Epoch 6/10\n",
      "2425/2425 [==============================] - 1s 486us/sample - loss: 118615.5644\n",
      "Epoch 7/10\n",
      "2425/2425 [==============================] - 1s 471us/sample - loss: 113978.7548\n",
      "Epoch 8/10\n",
      "2425/2425 [==============================] - 1s 457us/sample - loss: 99117.2224\n",
      "Epoch 9/10\n",
      "2425/2425 [==============================] - 1s 492us/sample - loss: 101273.6762\n",
      "Epoch 10/10\n",
      "2425/2425 [==============================] - 1s 461us/sample - loss: 96020.8038\n"
     ]
    },
    {
     "name": "stderr",
     "output_type": "stream",
     "text": [
      "C:\\Users\\gabri\\.conda\\envs\\tf\\lib\\site-packages\\keras\\engine\\training_v1.py:2356: UserWarning: `Model.state_updates` will be removed in a future version. This property should not be used in TensorFlow 2.0, as `updates` are applied automatically.\n",
      "  updates=self.state_updates,\n"
     ]
    },
    {
     "name": "stdout",
     "output_type": "stream",
     "text": [
      "[CV] END ..........loss=mean_squared_error, optimizer=adamax; total time=  20.9s\n",
      "Train on 2424 samples\n",
      "Epoch 1/10\n",
      "2424/2424 [==============================] - 6s 3ms/sample - loss: 18.8440\n",
      "Epoch 2/10\n",
      "2424/2424 [==============================] - 1s 471us/sample - loss: 0.5126\n",
      "Epoch 3/10\n",
      "2424/2424 [==============================] - 1s 465us/sample - loss: 0.4318\n",
      "Epoch 4/10\n",
      "2424/2424 [==============================] - 1s 462us/sample - loss: 0.3727\n",
      "Epoch 5/10\n",
      "2424/2424 [==============================] - 1s 477us/sample - loss: 0.3032\n",
      "Epoch 6/10\n",
      "2424/2424 [==============================] - 1s 470us/sample - loss: 0.2180\n",
      "Epoch 7/10\n",
      "2424/2424 [==============================] - 1s 477us/sample - loss: 0.1757\n",
      "Epoch 8/10\n",
      "2424/2424 [==============================] - 1s 486us/sample - loss: 0.1461\n",
      "Epoch 9/10\n",
      "2424/2424 [==============================] - 1s 475us/sample - loss: 0.1311\n",
      "Epoch 10/10\n",
      "2424/2424 [==============================] - 1s 471us/sample - loss: 0.1316\n"
     ]
    },
    {
     "name": "stderr",
     "output_type": "stream",
     "text": [
      "C:\\Users\\gabri\\.conda\\envs\\tf\\lib\\site-packages\\keras\\engine\\training_v1.py:2356: UserWarning: `Model.state_updates` will be removed in a future version. This property should not be used in TensorFlow 2.0, as `updates` are applied automatically.\n",
      "  updates=self.state_updates,\n"
     ]
    },
    {
     "name": "stdout",
     "output_type": "stream",
     "text": [
      "[CV] END loss=mean_squared_logarithmic_error, optimizer=adam; total time=  21.5s\n",
      "Train on 2425 samples\n",
      "Epoch 1/10\n",
      "2425/2425 [==============================] - 6s 3ms/sample - loss: 20.2226\n",
      "Epoch 2/10\n",
      "2425/2425 [==============================] - 1s 473us/sample - loss: 0.5145\n",
      "Epoch 3/10\n",
      "2425/2425 [==============================] - 1s 470us/sample - loss: 0.4695\n",
      "Epoch 4/10\n",
      "2425/2425 [==============================] - 1s 526us/sample - loss: 0.4466\n",
      "Epoch 5/10\n",
      "2425/2425 [==============================] - 1s 524us/sample - loss: 0.3909\n",
      "Epoch 6/10\n",
      "2425/2425 [==============================] - 1s 482us/sample - loss: 0.3003\n",
      "Epoch 7/10\n",
      "2425/2425 [==============================] - 1s 470us/sample - loss: 0.1877\n",
      "Epoch 8/10\n",
      "2425/2425 [==============================] - 1s 464us/sample - loss: 0.1515\n",
      "Epoch 9/10\n",
      "2425/2425 [==============================] - 1s 477us/sample - loss: 0.1161\n",
      "Epoch 10/10\n",
      "2425/2425 [==============================] - 1s 491us/sample - loss: 0.1127\n"
     ]
    },
    {
     "name": "stderr",
     "output_type": "stream",
     "text": [
      "C:\\Users\\gabri\\.conda\\envs\\tf\\lib\\site-packages\\keras\\engine\\training_v1.py:2356: UserWarning: `Model.state_updates` will be removed in a future version. This property should not be used in TensorFlow 2.0, as `updates` are applied automatically.\n",
      "  updates=self.state_updates,\n"
     ]
    },
    {
     "name": "stdout",
     "output_type": "stream",
     "text": [
      "[CV] END loss=mean_squared_logarithmic_error, optimizer=adam; total time=  21.8s\n",
      "Train on 2425 samples\n",
      "Epoch 1/10\n",
      "2425/2425 [==============================] - 7s 3ms/sample - loss: 21.2659\n",
      "Epoch 2/10\n",
      "2425/2425 [==============================] - 1s 471us/sample - loss: 0.8656\n",
      "Epoch 3/10\n",
      "2425/2425 [==============================] - 1s 477us/sample - loss: 0.6133\n",
      "Epoch 4/10\n",
      "2425/2425 [==============================] - 1s 479us/sample - loss: 0.2814\n",
      "Epoch 5/10\n",
      "2425/2425 [==============================] - 1s 514us/sample - loss: 0.1898\n",
      "Epoch 6/10\n",
      "2425/2425 [==============================] - 1s 502us/sample - loss: 0.1366\n",
      "Epoch 7/10\n",
      "2425/2425 [==============================] - 1s 513us/sample - loss: 0.1242\n",
      "Epoch 8/10\n",
      "2425/2425 [==============================] - 1s 534us/sample - loss: 0.1127\n",
      "Epoch 9/10\n",
      "2425/2425 [==============================] - 1s 518us/sample - loss: 0.0978\n",
      "Epoch 10/10\n",
      "2425/2425 [==============================] - 1s 533us/sample - loss: 0.0930\n"
     ]
    },
    {
     "name": "stderr",
     "output_type": "stream",
     "text": [
      "C:\\Users\\gabri\\.conda\\envs\\tf\\lib\\site-packages\\keras\\engine\\training_v1.py:2356: UserWarning: `Model.state_updates` will be removed in a future version. This property should not be used in TensorFlow 2.0, as `updates` are applied automatically.\n",
      "  updates=self.state_updates,\n"
     ]
    },
    {
     "name": "stdout",
     "output_type": "stream",
     "text": [
      "[CV] END loss=mean_squared_logarithmic_error, optimizer=adam; total time=  23.5s\n",
      "Train on 2424 samples\n",
      "Epoch 1/10\n",
      "2424/2424 [==============================] - 8s 3ms/sample - loss: 31.6882\n",
      "Epoch 2/10\n",
      "2424/2424 [==============================] - 1s 521us/sample - loss: 0.7344\n",
      "Epoch 3/10\n",
      "2424/2424 [==============================] - 1s 520us/sample - loss: 0.5439\n",
      "Epoch 4/10\n",
      "2424/2424 [==============================] - 1s 526us/sample - loss: 0.5137\n",
      "Epoch 5/10\n",
      "2424/2424 [==============================] - 1s 515us/sample - loss: 0.4789\n",
      "Epoch 6/10\n",
      "2424/2424 [==============================] - 1s 531us/sample - loss: 0.4490\n",
      "Epoch 7/10\n",
      "2424/2424 [==============================] - 1s 557us/sample - loss: 0.4389\n",
      "Epoch 8/10\n",
      "2424/2424 [==============================] - 1s 589us/sample - loss: 0.4201\n",
      "Epoch 9/10\n",
      "2424/2424 [==============================] - 1s 575us/sample - loss: 0.4082\n",
      "Epoch 10/10\n",
      "2424/2424 [==============================] - 1s 566us/sample - loss: 0.3921\n"
     ]
    },
    {
     "name": "stderr",
     "output_type": "stream",
     "text": [
      "C:\\Users\\gabri\\.conda\\envs\\tf\\lib\\site-packages\\keras\\engine\\training_v1.py:2356: UserWarning: `Model.state_updates` will be removed in a future version. This property should not be used in TensorFlow 2.0, as `updates` are applied automatically.\n",
      "  updates=self.state_updates,\n"
     ]
    },
    {
     "name": "stdout",
     "output_type": "stream",
     "text": [
      "[CV] END loss=mean_squared_logarithmic_error, optimizer=adamax; total time=  24.8s\n",
      "Train on 2425 samples\n",
      "Epoch 1/10\n",
      "2425/2425 [==============================] - 8s 3ms/sample - loss: 31.6206\n",
      "Epoch 2/10\n",
      "2425/2425 [==============================] - 1s 507us/sample - loss: 0.6467\n",
      "Epoch 3/10\n",
      "2425/2425 [==============================] - 1s 531us/sample - loss: 0.5198\n",
      "Epoch 4/10\n",
      "2425/2425 [==============================] - 1s 496us/sample - loss: 0.4993\n",
      "Epoch 5/10\n",
      "2425/2425 [==============================] - 1s 490us/sample - loss: 0.4815\n",
      "Epoch 6/10\n",
      "2425/2425 [==============================] - 1s 489us/sample - loss: 0.4722\n",
      "Epoch 7/10\n",
      "2425/2425 [==============================] - 1s 518us/sample - loss: 0.4674\n",
      "Epoch 8/10\n",
      "2425/2425 [==============================] - 1s 498us/sample - loss: 0.4573\n",
      "Epoch 9/10\n",
      "2425/2425 [==============================] - 1s 502us/sample - loss: 0.4458\n",
      "Epoch 10/10\n",
      "2425/2425 [==============================] - 1s 490us/sample - loss: 0.4373\n"
     ]
    },
    {
     "name": "stderr",
     "output_type": "stream",
     "text": [
      "C:\\Users\\gabri\\.conda\\envs\\tf\\lib\\site-packages\\keras\\engine\\training_v1.py:2356: UserWarning: `Model.state_updates` will be removed in a future version. This property should not be used in TensorFlow 2.0, as `updates` are applied automatically.\n",
      "  updates=self.state_updates,\n"
     ]
    },
    {
     "name": "stdout",
     "output_type": "stream",
     "text": [
      "[CV] END loss=mean_squared_logarithmic_error, optimizer=adamax; total time=  24.6s\n",
      "Train on 2425 samples\n",
      "Epoch 1/10\n",
      "2425/2425 [==============================] - 9s 4ms/sample - loss: 31.7354\n",
      "Epoch 2/10\n",
      "2425/2425 [==============================] - 1s 505us/sample - loss: 0.9761\n",
      "Epoch 3/10\n",
      "2425/2425 [==============================] - 1s 543us/sample - loss: 0.8177\n",
      "Epoch 4/10\n",
      "2425/2425 [==============================] - 1s 557us/sample - loss: 0.7461\n",
      "Epoch 5/10\n",
      "2425/2425 [==============================] - 1s 563us/sample - loss: 0.6633\n",
      "Epoch 6/10\n",
      "2425/2425 [==============================] - 1s 570us/sample - loss: 0.5132\n",
      "Epoch 7/10\n",
      "2425/2425 [==============================] - 1s 582us/sample - loss: 0.3916\n",
      "Epoch 8/10\n",
      "2425/2425 [==============================] - 1s 594us/sample - loss: 0.3027\n",
      "Epoch 9/10\n",
      "2425/2425 [==============================] - 1s 587us/sample - loss: 0.2660\n",
      "Epoch 10/10\n",
      "2425/2425 [==============================] - 1s 597us/sample - loss: 0.2336\n"
     ]
    },
    {
     "name": "stderr",
     "output_type": "stream",
     "text": [
      "C:\\Users\\gabri\\.conda\\envs\\tf\\lib\\site-packages\\keras\\engine\\training_v1.py:2356: UserWarning: `Model.state_updates` will be removed in a future version. This property should not be used in TensorFlow 2.0, as `updates` are applied automatically.\n",
      "  updates=self.state_updates,\n"
     ]
    },
    {
     "name": "stdout",
     "output_type": "stream",
     "text": [
      "[CV] END loss=mean_squared_logarithmic_error, optimizer=adamax; total time=  27.0s\n",
      "Train on 3637 samples\n",
      "Epoch 1/10\n",
      "3637/3637 [==============================] - 11s 3ms/sample - loss: 1775033.9172\n",
      "Epoch 2/10\n",
      "3637/3637 [==============================] - 2s 606us/sample - loss: 355533.0467\n",
      "Epoch 3/10\n",
      "3637/3637 [==============================] - 2s 610us/sample - loss: 340917.8134\n",
      "Epoch 4/10\n",
      "3637/3637 [==============================] - 2s 646us/sample - loss: 337388.7986\n",
      "Epoch 5/10\n",
      "3637/3637 [==============================] - 2s 608us/sample - loss: 330239.9704\n",
      "Epoch 6/10\n",
      "3637/3637 [==============================] - 2s 611us/sample - loss: 325681.6530\n",
      "Epoch 7/10\n",
      "3637/3637 [==============================] - 2s 646us/sample - loss: 217555.4089\n",
      "Epoch 8/10\n",
      "3637/3637 [==============================] - 2s 614us/sample - loss: 117777.2823\n",
      "Epoch 9/10\n",
      "3637/3637 [==============================] - 2s 595us/sample - loss: 104581.2873\n",
      "Epoch 10/10\n",
      "3637/3637 [==============================] - 2s 623us/sample - loss: 109602.6522\n",
      "Best: -7.772383767341303 using {'loss': 'mean_squared_error', 'optimizer': 'adam'}\n"
     ]
    }
   ],
   "execution_count": 7
  }
 ],
 "metadata": {
  "kernelspec": {
   "display_name": "Python 3",
   "language": "python",
   "name": "python3"
  },
  "language_info": {
   "codemirror_mode": {
    "name": "ipython",
    "version": 2
   },
   "file_extension": ".py",
   "mimetype": "text/x-python",
   "name": "python",
   "nbconvert_exporter": "python",
   "pygments_lexer": "ipython2",
   "version": "2.7.6"
  }
 },
 "nbformat": 4,
 "nbformat_minor": 5
}
